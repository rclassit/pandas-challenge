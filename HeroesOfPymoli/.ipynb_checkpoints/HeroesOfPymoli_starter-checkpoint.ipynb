{
 "cells": [
  {
   "cell_type": "markdown",
   "metadata": {},
   "source": [
    "### Note\n",
    "* Instructions have been included for each segment. You do not have to follow them exactly, but they are included to help you think through the steps."
   ]
  },
  {
   "cell_type": "code",
   "execution_count": 9,
   "metadata": {},
   "outputs": [
    {
     "data": {
      "text/html": [
       "<div>\n",
       "<style scoped>\n",
       "    .dataframe tbody tr th:only-of-type {\n",
       "        vertical-align: middle;\n",
       "    }\n",
       "\n",
       "    .dataframe tbody tr th {\n",
       "        vertical-align: top;\n",
       "    }\n",
       "\n",
       "    .dataframe thead th {\n",
       "        text-align: right;\n",
       "    }\n",
       "</style>\n",
       "<table border=\"1\" class=\"dataframe\">\n",
       "  <thead>\n",
       "    <tr style=\"text-align: right;\">\n",
       "      <th></th>\n",
       "      <th>Purchase ID</th>\n",
       "      <th>SN</th>\n",
       "      <th>Age</th>\n",
       "      <th>Gender</th>\n",
       "      <th>Item ID</th>\n",
       "      <th>Item Name</th>\n",
       "      <th>Price</th>\n",
       "    </tr>\n",
       "  </thead>\n",
       "  <tbody>\n",
       "    <tr>\n",
       "      <th>0</th>\n",
       "      <td>0</td>\n",
       "      <td>Lisim78</td>\n",
       "      <td>20</td>\n",
       "      <td>Male</td>\n",
       "      <td>108</td>\n",
       "      <td>Extraction, Quickblade Of Trembling Hands</td>\n",
       "      <td>3.53</td>\n",
       "    </tr>\n",
       "    <tr>\n",
       "      <th>1</th>\n",
       "      <td>1</td>\n",
       "      <td>Lisovynya38</td>\n",
       "      <td>40</td>\n",
       "      <td>Male</td>\n",
       "      <td>143</td>\n",
       "      <td>Frenzied Scimitar</td>\n",
       "      <td>1.56</td>\n",
       "    </tr>\n",
       "    <tr>\n",
       "      <th>2</th>\n",
       "      <td>2</td>\n",
       "      <td>Ithergue48</td>\n",
       "      <td>24</td>\n",
       "      <td>Male</td>\n",
       "      <td>92</td>\n",
       "      <td>Final Critic</td>\n",
       "      <td>4.88</td>\n",
       "    </tr>\n",
       "    <tr>\n",
       "      <th>3</th>\n",
       "      <td>3</td>\n",
       "      <td>Chamassasya86</td>\n",
       "      <td>24</td>\n",
       "      <td>Male</td>\n",
       "      <td>100</td>\n",
       "      <td>Blindscythe</td>\n",
       "      <td>3.27</td>\n",
       "    </tr>\n",
       "    <tr>\n",
       "      <th>4</th>\n",
       "      <td>4</td>\n",
       "      <td>Iskosia90</td>\n",
       "      <td>23</td>\n",
       "      <td>Male</td>\n",
       "      <td>131</td>\n",
       "      <td>Fury</td>\n",
       "      <td>1.44</td>\n",
       "    </tr>\n",
       "  </tbody>\n",
       "</table>\n",
       "</div>"
      ],
      "text/plain": [
       "   Purchase ID             SN  Age Gender  Item ID  \\\n",
       "0            0        Lisim78   20   Male      108   \n",
       "1            1    Lisovynya38   40   Male      143   \n",
       "2            2     Ithergue48   24   Male       92   \n",
       "3            3  Chamassasya86   24   Male      100   \n",
       "4            4      Iskosia90   23   Male      131   \n",
       "\n",
       "                                   Item Name  Price  \n",
       "0  Extraction, Quickblade Of Trembling Hands   3.53  \n",
       "1                          Frenzied Scimitar   1.56  \n",
       "2                               Final Critic   4.88  \n",
       "3                                Blindscythe   3.27  \n",
       "4                                       Fury   1.44  "
      ]
     },
     "execution_count": 9,
     "metadata": {},
     "output_type": "execute_result"
    }
   ],
   "source": [
    "# Dependencies and Setup\n",
    "import pandas as pd\n",
    "\n",
    "# File to Load (Remember to Change These)\n",
    "file_to_load = \"Resources/purchase_data.csv\"\n",
    "\n",
    "# Read Purchasing File and store into Pandas data frame\n",
    "purchase_data = pd.read_csv(file_to_load)\n",
    "purchase_data.head()"
   ]
  },
  {
   "cell_type": "markdown",
   "metadata": {},
   "source": [
    "## Player Count"
   ]
  },
  {
   "cell_type": "markdown",
   "metadata": {},
   "source": [
    "* Display the total number of players\n"
   ]
  },
  {
   "cell_type": "code",
   "execution_count": 10,
   "metadata": {},
   "outputs": [
    {
     "data": {
      "text/plain": [
       "576"
      ]
     },
     "execution_count": 10,
     "metadata": {},
     "output_type": "execute_result"
    }
   ],
   "source": [
    "#Sum function for Total # Players\n",
    "total_players = len(purchase_data[\"SN\"].unique())\n",
    "total_players"
   ]
  },
  {
   "cell_type": "markdown",
   "metadata": {},
   "source": [
    "## Purchasing Analysis (Total)"
   ]
  },
  {
   "cell_type": "markdown",
   "metadata": {},
   "source": [
    "* Run basic calculations to obtain number of unique items, average price, etc.\n",
    "\n",
    "\n",
    "* Create a summary data frame to hold the results\n",
    "\n",
    "\n",
    "* Optional: give the displayed data cleaner formatting\n",
    "\n",
    "\n",
    "* Display the summary data frame\n"
   ]
  },
  {
   "cell_type": "code",
   "execution_count": 11,
   "metadata": {
    "scrolled": true
   },
   "outputs": [
    {
     "data": {
      "text/html": [
       "<style  type=\"text/css\" >\n",
       "</style><table id=\"T_7437fa62_3db4_11eb_8cb7_5c80b6166a24\" ><thead>    <tr>        <th class=\"blank level0\" ></th>        <th class=\"col_heading level0 col0\" >Number of Unique Items</th>        <th class=\"col_heading level0 col1\" >Average Price</th>        <th class=\"col_heading level0 col2\" >Number of Purchases</th>        <th class=\"col_heading level0 col3\" >Total Revenue</th>    </tr></thead><tbody>\n",
       "                <tr>\n",
       "                        <th id=\"T_7437fa62_3db4_11eb_8cb7_5c80b6166a24level0_row0\" class=\"row_heading level0 row0\" >0</th>\n",
       "                        <td id=\"T_7437fa62_3db4_11eb_8cb7_5c80b6166a24row0_col0\" class=\"data row0 col0\" >179</td>\n",
       "                        <td id=\"T_7437fa62_3db4_11eb_8cb7_5c80b6166a24row0_col1\" class=\"data row0 col1\" >$3.05</td>\n",
       "                        <td id=\"T_7437fa62_3db4_11eb_8cb7_5c80b6166a24row0_col2\" class=\"data row0 col2\" >780</td>\n",
       "                        <td id=\"T_7437fa62_3db4_11eb_8cb7_5c80b6166a24row0_col3\" class=\"data row0 col3\" >$2,379.77</td>\n",
       "            </tr>\n",
       "    </tbody></table>"
      ],
      "text/plain": [
       "<pandas.io.formats.style.Styler at 0x2efad2ac340>"
      ]
     },
     "execution_count": 11,
     "metadata": {},
     "output_type": "execute_result"
    }
   ],
   "source": [
    "purchase_data.dtypes\n",
    "\n",
    "# #Unique Items \n",
    "unique_items = len(purchase_data[\"Item ID\"].unique())\n",
    "unique_items\n",
    "#Average Price \n",
    "average_price = purchase_data[\"Price\"].mean()\n",
    "average_price\n",
    "# #Number of Purchases\n",
    "number_purchased = len(purchase_data[\"Purchase ID\"])\n",
    "number_purchased\n",
    "# #Total Revenue\n",
    "\n",
    "total_revenue = purchase_data[\"Price\"].sum()\n",
    "total_revenue\n",
    "\n",
    "basic_cal_df = pd.DataFrame([{\"Number of Unique Items\": unique_items, \"Average Price\": round(average_price,2), \"Number of Purchases\": number_purchased, \"Total Revenue\" : round(total_revenue,2)}])\n",
    "basic_cal_df.style.format({\"Average Price\": \"${:,.2f}\",\"Total Revenue\": '${:,.2f}'})"
   ]
  },
  {
   "cell_type": "markdown",
   "metadata": {},
   "source": [
    "## Gender Demographics"
   ]
  },
  {
   "cell_type": "markdown",
   "metadata": {},
   "source": [
    "* Percentage and Count of Male Players\n",
    "\n",
    "\n",
    "* Percentage and Count of Female Players\n",
    "\n",
    "\n",
    "* Percentage and Count of Other / Non-Disclosed\n",
    "\n",
    "\n"
   ]
  },
  {
   "cell_type": "code",
   "execution_count": 12,
   "metadata": {},
   "outputs": [
    {
     "data": {
      "text/html": [
       "<style  type=\"text/css\" >\n",
       "</style><table id=\"T_743e0686_3db4_11eb_b6ce_5c80b6166a24\" ><thead>    <tr>        <th class=\"blank level0\" ></th>        <th class=\"col_heading level0 col0\" >Percentage of Players</th>        <th class=\"col_heading level0 col1\" >Total Count</th>    </tr></thead><tbody>\n",
       "                <tr>\n",
       "                        <th id=\"T_743e0686_3db4_11eb_b6ce_5c80b6166a24level0_row0\" class=\"row_heading level0 row0\" >Male</th>\n",
       "                        <td id=\"T_743e0686_3db4_11eb_b6ce_5c80b6166a24row0_col0\" class=\"data row0 col0\" >84.03</td>\n",
       "                        <td id=\"T_743e0686_3db4_11eb_b6ce_5c80b6166a24row0_col1\" class=\"data row0 col1\" >484</td>\n",
       "            </tr>\n",
       "            <tr>\n",
       "                        <th id=\"T_743e0686_3db4_11eb_b6ce_5c80b6166a24level0_row1\" class=\"row_heading level0 row1\" >Female</th>\n",
       "                        <td id=\"T_743e0686_3db4_11eb_b6ce_5c80b6166a24row1_col0\" class=\"data row1 col0\" >14.06</td>\n",
       "                        <td id=\"T_743e0686_3db4_11eb_b6ce_5c80b6166a24row1_col1\" class=\"data row1 col1\" >81</td>\n",
       "            </tr>\n",
       "            <tr>\n",
       "                        <th id=\"T_743e0686_3db4_11eb_b6ce_5c80b6166a24level0_row2\" class=\"row_heading level0 row2\" >Other / Non-Disclosed</th>\n",
       "                        <td id=\"T_743e0686_3db4_11eb_b6ce_5c80b6166a24row2_col0\" class=\"data row2 col0\" >1.91</td>\n",
       "                        <td id=\"T_743e0686_3db4_11eb_b6ce_5c80b6166a24row2_col1\" class=\"data row2 col1\" >11</td>\n",
       "            </tr>\n",
       "    </tbody></table>"
      ],
      "text/plain": [
       "<pandas.io.formats.style.Styler at 0x2efaa022700>"
      ]
     },
     "execution_count": 12,
     "metadata": {},
     "output_type": "execute_result"
    }
   ],
   "source": [
    "#Groupby purchase_data based on Gender\n",
    "\n",
    "gender = purchase_data.groupby(\"Gender\")\n",
    "\n",
    "#Count total SN by gender\n",
    "gender_count = gender.nunique()[\"SN\"]\n",
    "gender_count\n",
    "\n",
    "#Percent players by gender\n",
    "percent_gender = gender_count / total_players * 100\n",
    "\n",
    "#Dataframe \n",
    "\n",
    "gender_demo = pd.DataFrame({\"Percentage of Players\": percent_gender,\"Total Count\": gender_count})\n",
    "\n",
    "#Take out no index name to match table ex. \n",
    "gender_demo.index.name = None\n",
    "\n",
    "#Formatting\n",
    "gender_demo.sort_values([\"Total Count\"], ascending = False).style.format({\"Percentage of Players\":\"{:.2f}\"})"
   ]
  },
  {
   "cell_type": "markdown",
   "metadata": {},
   "source": [
    "\n",
    "## Purchasing Analysis (Gender)"
   ]
  },
  {
   "cell_type": "markdown",
   "metadata": {},
   "source": [
    "* Run basic calculations to obtain purchase count, avg. purchase price, avg. purchase total per person etc. by gender\n",
    "\n",
    "\n",
    "\n",
    "\n",
    "* Create a summary data frame to hold the results\n",
    "\n",
    "\n",
    "* Optional: give the displayed data cleaner formatting\n",
    "\n",
    "\n",
    "* Display the summary data frame"
   ]
  },
  {
   "cell_type": "code",
   "execution_count": 13,
   "metadata": {},
   "outputs": [
    {
     "data": {
      "text/html": [
       "<style  type=\"text/css\" >\n",
       "</style><table id=\"T_744336e0_3db4_11eb_82aa_5c80b6166a24\" ><thead>    <tr>        <th class=\"blank level0\" ></th>        <th class=\"col_heading level0 col0\" >Purchase Count</th>        <th class=\"col_heading level0 col1\" >Average Purchase Price</th>        <th class=\"col_heading level0 col2\" >Average Purchase Value</th>        <th class=\"col_heading level0 col3\" >Avg Total Purchase per Person</th>    </tr>    <tr>        <th class=\"index_name level0\" >Gender</th>        <th class=\"blank\" ></th>        <th class=\"blank\" ></th>        <th class=\"blank\" ></th>        <th class=\"blank\" ></th>    </tr></thead><tbody>\n",
       "                <tr>\n",
       "                        <th id=\"T_744336e0_3db4_11eb_82aa_5c80b6166a24level0_row0\" class=\"row_heading level0 row0\" >Female</th>\n",
       "                        <td id=\"T_744336e0_3db4_11eb_82aa_5c80b6166a24row0_col0\" class=\"data row0 col0\" >113</td>\n",
       "                        <td id=\"T_744336e0_3db4_11eb_82aa_5c80b6166a24row0_col1\" class=\"data row0 col1\" >$3.20</td>\n",
       "                        <td id=\"T_744336e0_3db4_11eb_82aa_5c80b6166a24row0_col2\" class=\"data row0 col2\" >$361.94</td>\n",
       "                        <td id=\"T_744336e0_3db4_11eb_82aa_5c80b6166a24row0_col3\" class=\"data row0 col3\" >$4.47</td>\n",
       "            </tr>\n",
       "            <tr>\n",
       "                        <th id=\"T_744336e0_3db4_11eb_82aa_5c80b6166a24level0_row1\" class=\"row_heading level0 row1\" >Male</th>\n",
       "                        <td id=\"T_744336e0_3db4_11eb_82aa_5c80b6166a24row1_col0\" class=\"data row1 col0\" >652</td>\n",
       "                        <td id=\"T_744336e0_3db4_11eb_82aa_5c80b6166a24row1_col1\" class=\"data row1 col1\" >$3.02</td>\n",
       "                        <td id=\"T_744336e0_3db4_11eb_82aa_5c80b6166a24row1_col2\" class=\"data row1 col2\" >$1,967.64</td>\n",
       "                        <td id=\"T_744336e0_3db4_11eb_82aa_5c80b6166a24row1_col3\" class=\"data row1 col3\" >$4.07</td>\n",
       "            </tr>\n",
       "            <tr>\n",
       "                        <th id=\"T_744336e0_3db4_11eb_82aa_5c80b6166a24level0_row2\" class=\"row_heading level0 row2\" >Other / Non-Disclosed</th>\n",
       "                        <td id=\"T_744336e0_3db4_11eb_82aa_5c80b6166a24row2_col0\" class=\"data row2 col0\" >15</td>\n",
       "                        <td id=\"T_744336e0_3db4_11eb_82aa_5c80b6166a24row2_col1\" class=\"data row2 col1\" >$3.35</td>\n",
       "                        <td id=\"T_744336e0_3db4_11eb_82aa_5c80b6166a24row2_col2\" class=\"data row2 col2\" >$50.19</td>\n",
       "                        <td id=\"T_744336e0_3db4_11eb_82aa_5c80b6166a24row2_col3\" class=\"data row2 col3\" >$4.56</td>\n",
       "            </tr>\n",
       "    </tbody></table>"
      ],
      "text/plain": [
       "<pandas.io.formats.style.Styler at 0x2efad293af0>"
      ]
     },
     "execution_count": 13,
     "metadata": {},
     "output_type": "execute_result"
    }
   ],
   "source": [
    "#Total Gender Purchase\n",
    "purchase_count = gender[\"Purchase ID\"].count()\n",
    "\n",
    "#Avg purchase by Gender \n",
    "avg_price = gender[\"Price\"].mean()\n",
    "\n",
    "#Avg Purchase Total by Gender\n",
    "avg_total = gender[\"Price\"].sum()\n",
    "\n",
    "#Average Purchase Price\n",
    "avg_ppper_person = avg_total / gender_count\n",
    "\n",
    "#DF with values\n",
    "\n",
    "gender_demo2 = pd.DataFrame({\"Purchase Count\": purchase_count,\"Average Purchase Price\":avg_price,\"Average Purchase Value\":avg_total,\"Avg Total Purchase per Person\": avg_ppper_person})\n",
    "\n",
    "#Match index title for Gender\n",
    "gender_demo2.index.name = \"Gender\"\n",
    "\n",
    "#Currency Formatting\n",
    "\n",
    "gender_demo2.style.format({\"Average Purchase Value\":\"${:,.2f}\",\"Average Purchase Price\":\"${:,.2f}\",\"Avg Total Purchase per Person\":\"${:,.2f}\"})"
   ]
  },
  {
   "cell_type": "markdown",
   "metadata": {},
   "source": [
    "## Age Demographics"
   ]
  },
  {
   "cell_type": "markdown",
   "metadata": {},
   "source": [
    "* Establish bins for ages\n",
    "\n",
    "\n",
    "* Categorize the existing players using the age bins. Hint: use pd.cut()\n",
    "\n",
    "\n",
    "* Calculate the numbers and percentages by age group\n",
    "\n",
    "\n",
    "* Create a summary data frame to hold the results\n",
    "\n",
    "\n",
    "* Optional: round the percentage column to two decimal points\n",
    "\n",
    "\n",
    "* Display Age Demographics Table\n"
   ]
  },
  {
   "cell_type": "code",
   "execution_count": 19,
   "metadata": {},
   "outputs": [
    {
     "data": {
      "text/html": [
       "<style  type=\"text/css\" >\n",
       "</style><table id=\"T_0e3dbc49_3db5_11eb_9935_5c80b6166a24\" ><thead>    <tr>        <th class=\"blank level0\" ></th>        <th class=\"col_heading level0 col0\" >Percentage of Players</th>        <th class=\"col_heading level0 col1\" >Total Count</th>    </tr></thead><tbody>\n",
       "                <tr>\n",
       "                        <th id=\"T_0e3dbc49_3db5_11eb_9935_5c80b6166a24level0_row0\" class=\"row_heading level0 row0\" ><10</th>\n",
       "                        <td id=\"T_0e3dbc49_3db5_11eb_9935_5c80b6166a24row0_col0\" class=\"data row0 col0\" >2.95</td>\n",
       "                        <td id=\"T_0e3dbc49_3db5_11eb_9935_5c80b6166a24row0_col1\" class=\"data row0 col1\" >17</td>\n",
       "            </tr>\n",
       "            <tr>\n",
       "                        <th id=\"T_0e3dbc49_3db5_11eb_9935_5c80b6166a24level0_row1\" class=\"row_heading level0 row1\" >10-14</th>\n",
       "                        <td id=\"T_0e3dbc49_3db5_11eb_9935_5c80b6166a24row1_col0\" class=\"data row1 col0\" >3.82</td>\n",
       "                        <td id=\"T_0e3dbc49_3db5_11eb_9935_5c80b6166a24row1_col1\" class=\"data row1 col1\" >22</td>\n",
       "            </tr>\n",
       "            <tr>\n",
       "                        <th id=\"T_0e3dbc49_3db5_11eb_9935_5c80b6166a24level0_row2\" class=\"row_heading level0 row2\" >15-19</th>\n",
       "                        <td id=\"T_0e3dbc49_3db5_11eb_9935_5c80b6166a24row2_col0\" class=\"data row2 col0\" >18.58</td>\n",
       "                        <td id=\"T_0e3dbc49_3db5_11eb_9935_5c80b6166a24row2_col1\" class=\"data row2 col1\" >107</td>\n",
       "            </tr>\n",
       "            <tr>\n",
       "                        <th id=\"T_0e3dbc49_3db5_11eb_9935_5c80b6166a24level0_row3\" class=\"row_heading level0 row3\" >20-24</th>\n",
       "                        <td id=\"T_0e3dbc49_3db5_11eb_9935_5c80b6166a24row3_col0\" class=\"data row3 col0\" >44.79</td>\n",
       "                        <td id=\"T_0e3dbc49_3db5_11eb_9935_5c80b6166a24row3_col1\" class=\"data row3 col1\" >258</td>\n",
       "            </tr>\n",
       "            <tr>\n",
       "                        <th id=\"T_0e3dbc49_3db5_11eb_9935_5c80b6166a24level0_row4\" class=\"row_heading level0 row4\" >25-29</th>\n",
       "                        <td id=\"T_0e3dbc49_3db5_11eb_9935_5c80b6166a24row4_col0\" class=\"data row4 col0\" >13.37</td>\n",
       "                        <td id=\"T_0e3dbc49_3db5_11eb_9935_5c80b6166a24row4_col1\" class=\"data row4 col1\" >77</td>\n",
       "            </tr>\n",
       "            <tr>\n",
       "                        <th id=\"T_0e3dbc49_3db5_11eb_9935_5c80b6166a24level0_row5\" class=\"row_heading level0 row5\" >30-34</th>\n",
       "                        <td id=\"T_0e3dbc49_3db5_11eb_9935_5c80b6166a24row5_col0\" class=\"data row5 col0\" >9.03</td>\n",
       "                        <td id=\"T_0e3dbc49_3db5_11eb_9935_5c80b6166a24row5_col1\" class=\"data row5 col1\" >52</td>\n",
       "            </tr>\n",
       "            <tr>\n",
       "                        <th id=\"T_0e3dbc49_3db5_11eb_9935_5c80b6166a24level0_row6\" class=\"row_heading level0 row6\" >35-39</th>\n",
       "                        <td id=\"T_0e3dbc49_3db5_11eb_9935_5c80b6166a24row6_col0\" class=\"data row6 col0\" >5.38</td>\n",
       "                        <td id=\"T_0e3dbc49_3db5_11eb_9935_5c80b6166a24row6_col1\" class=\"data row6 col1\" >31</td>\n",
       "            </tr>\n",
       "            <tr>\n",
       "                        <th id=\"T_0e3dbc49_3db5_11eb_9935_5c80b6166a24level0_row7\" class=\"row_heading level0 row7\" >40+</th>\n",
       "                        <td id=\"T_0e3dbc49_3db5_11eb_9935_5c80b6166a24row7_col0\" class=\"data row7 col0\" >2.08</td>\n",
       "                        <td id=\"T_0e3dbc49_3db5_11eb_9935_5c80b6166a24row7_col1\" class=\"data row7 col1\" >12</td>\n",
       "            </tr>\n",
       "    </tbody></table>"
      ],
      "text/plain": [
       "<pandas.io.formats.style.Styler at 0x2efaa022e50>"
      ]
     },
     "execution_count": 19,
     "metadata": {},
     "output_type": "execute_result"
    }
   ],
   "source": [
    "# Creating the bins in which Data will be held\n",
    " \n",
    "bins = [0, 9.9, 14.9, 19.9, 24.9, 29.9,34.9,39.9,100]\n",
    "\n",
    "# Create the names for the age bins\n",
    "group_names = [\"<10\", \"10-14\", \"15-19\", \"20-24\", \"25-29\",\"30-34\",\"35-39\",\"40+\"]\n",
    "\n",
    "#Segment age values \n",
    "purchase_data[\"Age Group\"] = pd.cut(purchase_data[\"Age\"],bins,labels=group_names)\n",
    "purchase_data\n",
    "\n",
    "#DF with Age Group \n",
    "\n",
    "ages_group = purchase_data.groupby(\"Age Group\")\n",
    "\n",
    "#New Count by Age\n",
    "total_age_count = ages_group[\"SN\"].nunique()\n",
    "\n",
    "#Percent by Age \n",
    "percent_age = (total_age_count/total_players)*100\n",
    "percent_age\n",
    "\n",
    "#DF w values\n",
    "age_demo = pd.DataFrame({\"Percentage of Players\":percent_age, \"Total Count\":total_age_count})\n",
    "\n",
    "#Formatting\n",
    "age_demo.index.name = None\n",
    "age_demo.style.format({\"Percentage of Players\":\"{:,.2f}\"})"
   ]
  },
  {
   "cell_type": "markdown",
   "metadata": {},
   "source": [
    "## Purchasing Analysis (Age)"
   ]
  },
  {
   "cell_type": "markdown",
   "metadata": {},
   "source": [
    "* Bin the purchase_data data frame by age\n",
    "\n",
    "\n",
    "* Run basic calculations to obtain purchase count, avg. purchase price, avg. purchase total per person etc. in the table below\n",
    "\n",
    "\n",
    "* Create a summary data frame to hold the results\n",
    "\n",
    "\n",
    "* Optional: give the displayed data cleaner formatting\n",
    "\n",
    "\n",
    "* Display the summary data frame"
   ]
  },
  {
   "cell_type": "code",
   "execution_count": null,
   "metadata": {},
   "outputs": [],
   "source": []
  },
  {
   "cell_type": "markdown",
   "metadata": {},
   "source": [
    "## Top Spenders"
   ]
  },
  {
   "cell_type": "markdown",
   "metadata": {},
   "source": [
    "* Run basic calculations to obtain the results in the table below\n",
    "\n",
    "\n",
    "* Create a summary data frame to hold the results\n",
    "\n",
    "\n",
    "* Sort the total purchase value column in descending order\n",
    "\n",
    "\n",
    "* Optional: give the displayed data cleaner formatting\n",
    "\n",
    "\n",
    "* Display a preview of the summary data frame\n",
    "\n"
   ]
  },
  {
   "cell_type": "code",
   "execution_count": null,
   "metadata": {},
   "outputs": [],
   "source": []
  },
  {
   "cell_type": "markdown",
   "metadata": {},
   "source": [
    "## Most Popular Items"
   ]
  },
  {
   "cell_type": "markdown",
   "metadata": {},
   "source": [
    "* Retrieve the Item ID, Item Name, and Item Price columns\n",
    "\n",
    "\n",
    "* Group by Item ID and Item Name. Perform calculations to obtain purchase count, average item price, and total purchase value\n",
    "\n",
    "\n",
    "* Create a summary data frame to hold the results\n",
    "\n",
    "\n",
    "* Sort the purchase count column in descending order\n",
    "\n",
    "\n",
    "* Optional: give the displayed data cleaner formatting\n",
    "\n",
    "\n",
    "* Display a preview of the summary data frame\n",
    "\n"
   ]
  },
  {
   "cell_type": "code",
   "execution_count": null,
   "metadata": {},
   "outputs": [],
   "source": []
  },
  {
   "cell_type": "markdown",
   "metadata": {},
   "source": [
    "## Most Profitable Items"
   ]
  },
  {
   "cell_type": "markdown",
   "metadata": {},
   "source": [
    "* Sort the above table by total purchase value in descending order\n",
    "\n",
    "\n",
    "* Optional: give the displayed data cleaner formatting\n",
    "\n",
    "\n",
    "* Display a preview of the data frame\n",
    "\n"
   ]
  },
  {
   "cell_type": "code",
   "execution_count": null,
   "metadata": {
    "scrolled": true
   },
   "outputs": [],
   "source": []
  }
 ],
 "metadata": {
  "anaconda-cloud": {},
  "kernel_info": {
   "name": "python3"
  },
  "kernelspec": {
   "display_name": "Python 3",
   "language": "python",
   "name": "python3"
  },
  "language_info": {
   "codemirror_mode": {
    "name": "ipython",
    "version": 3
   },
   "file_extension": ".py",
   "mimetype": "text/x-python",
   "name": "python",
   "nbconvert_exporter": "python",
   "pygments_lexer": "ipython3",
   "version": "3.8.3"
  },
  "latex_envs": {
   "LaTeX_envs_menu_present": true,
   "autoclose": false,
   "autocomplete": true,
   "bibliofile": "biblio.bib",
   "cite_by": "apalike",
   "current_citInitial": 1,
   "eqLabelWithNumbers": true,
   "eqNumInitial": 1,
   "hotkeys": {
    "equation": "Ctrl-E",
    "itemize": "Ctrl-I"
   },
   "labels_anchors": false,
   "latex_user_defs": false,
   "report_style_numbering": false,
   "user_envs_cfg": false
  },
  "nteract": {
   "version": "0.2.0"
  }
 },
 "nbformat": 4,
 "nbformat_minor": 2
}
